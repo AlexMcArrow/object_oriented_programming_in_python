{
 "cells": [
  {
   "cell_type": "code",
   "execution_count": 21,
   "metadata": {
    "collapsed": false
   },
   "outputs": [
    {
     "name": "stdout",
     "output_type": "stream",
     "text": [
      "Company name is : Amazon\n",
      "=========================\n",
      "Company name is : Google\n"
     ]
    },
    {
     "ename": "AttributeError",
     "evalue": "'Employee' object has no attribute '__company'",
     "output_type": "error",
     "traceback": [
      "\u001b[0;31m---------------------------------------------------------------------------\u001b[0m",
      "\u001b[0;31mAttributeError\u001b[0m                            Traceback (most recent call last)",
      "\u001b[0;32m<ipython-input-21-14300bd945d1>\u001b[0m in \u001b[0;36m<module>\u001b[0;34m()\u001b[0m\n\u001b[1;32m     22\u001b[0m \u001b[0;34m\u001b[0m\u001b[0m\n\u001b[1;32m     23\u001b[0m \u001b[0;31m# Trying to access private attributes directly.\u001b[0m\u001b[0;34m\u001b[0m\u001b[0;34m\u001b[0m\u001b[0m\n\u001b[0;32m---> 24\u001b[0;31m \u001b[0mprint\u001b[0m\u001b[0;34m(\u001b[0m\u001b[0me\u001b[0m\u001b[0;34m.\u001b[0m\u001b[0m__company\u001b[0m\u001b[0;34m)\u001b[0m\u001b[0;34m\u001b[0m\u001b[0m\n\u001b[0m",
      "\u001b[0;31mAttributeError\u001b[0m: 'Employee' object has no attribute '__company'"
     ]
    }
   ],
   "source": [
    "# Implementing setters and getters\n",
    "class Employee:\n",
    "    \n",
    "    def __init__(self, name, company, retired = 'NO'): \n",
    "        self._name=name\n",
    "        self.__company = company # __ denotes as a private attribute\n",
    "        self.__retired = retired\n",
    "\n",
    "    # company getter method \n",
    "    def getCompany(self): \n",
    "        return self.__company \n",
    "\n",
    "    # company setter method \n",
    "    def setCompany(self,value): \n",
    "        self.__company = value\n",
    "        \n",
    "e=Employee('Pranay','Amazon')\n",
    "print(\"Company name is :\", e.getCompany())\n",
    "\n",
    "print(\"=\" * 25)\n",
    "e.setCompany('Google')\n",
    "print(\"Company name is :\", e.getCompany())\n",
    "\n",
    "# Trying to access private attributes directly.\n",
    "print(e.__company)\n"
   ]
  },
  {
   "cell_type": "code",
   "execution_count": 22,
   "metadata": {
    "collapsed": false
   },
   "outputs": [
    {
     "name": "stdout",
     "output_type": "stream",
     "text": [
      "@property class method called\n",
      "Company name is : Amazon\n",
      "===================================\n",
      "@company.setter class method called\n",
      "@property class method called\n",
      "Company name is : Google\n",
      "===================================\n",
      "Company name is : Microsoft\n"
     ]
    }
   ],
   "source": [
    "# Implementing setters and getters using @propery decorator\n",
    "class Employee:\n",
    "    \n",
    "    def __init__(self, name, company, retired = 'NO'): \n",
    "        self._name=name\n",
    "        self.__company = company # __ denotes as a private attribute\n",
    "        self.__retired = retired\n",
    "\n",
    "    @property \n",
    "    def company(self):\n",
    "        print(\"@property class method called\")\n",
    "        return self.__company \n",
    "\n",
    "    @company.setter\n",
    "    def company(self,value):\n",
    "        print(\"@company.setter class method called\")\n",
    "        self.__company = value\n",
    "\n",
    "        \n",
    "e=Employee('Pranay','Amazon')\n",
    "print(\"Company name is :\", e.company)\n",
    "print(\"=\"* 35)\n",
    "e.company='Google'\n",
    "print(\"Company name is :\", e.company)\n",
    "print(\"=\"* 35)\n",
    "Employee.company='Microsoft' # set the value by calling the propery method using class name\n",
    "print(\"Company name is :\", Employee.company)"
   ]
  },
  {
   "cell_type": "code",
   "execution_count": null,
   "metadata": {
    "collapsed": true
   },
   "outputs": [],
   "source": []
  }
 ],
 "metadata": {
  "kernelspec": {
   "display_name": "Python 3",
   "language": "python",
   "name": "python3"
  },
  "language_info": {
   "codemirror_mode": {
    "name": "ipython",
    "version": 3
   },
   "file_extension": ".py",
   "mimetype": "text/x-python",
   "name": "python",
   "nbconvert_exporter": "python",
   "pygments_lexer": "ipython3",
   "version": "3.6.0"
  }
 },
 "nbformat": 4,
 "nbformat_minor": 2
}
