{
 "cells": [
  {
   "cell_type": "markdown",
   "metadata": {},
   "source": [
    "## Basic speed test using 'time' module"
   ]
  },
  {
   "cell_type": "code",
   "execution_count": null,
   "metadata": {},
   "outputs": [],
   "source": [
    "def code():\n",
    "    ...\n",
    "    ...\n",
    "\n",
    "def speed_test():\n",
    "    import time\n",
    "    \n",
    "    start=time.time()\n",
    "    code()\n",
    "    end=time.time() - start\n",
    "    print(\"Total time taken: \",end)"
   ]
  },
  {
   "cell_type": "markdown",
   "metadata": {},
   "source": [
    "## Macro-profiling"
   ]
  },
  {
   "cell_type": "markdown",
   "metadata": {},
   "source": [
    "### Save the code in a file and run the program as:\n",
    "#### <font color='blue'>python3 -m cProfile testcode.py</font>"
   ]
  },
  {
   "cell_type": "code",
   "execution_count": null,
   "metadata": {},
   "outputs": [],
   "source": [
    "import time\n",
    "def func1(): # Function 1\n",
    "    time.sleep(0.01)\n",
    "\n",
    "def func2(): # Function 2\n",
    "    time.sleep(0.05)\n",
    "\n",
    "def main():\n",
    "    for i in range(50):\n",
    "        func1()\n",
    "        func2()\n",
    "    \n",
    "if '__name__'== '__main__':\n",
    "    main()"
   ]
  },
  {
   "cell_type": "markdown",
   "metadata": {},
   "source": [
    "#### Output will have metrics as:\n",
    "<p><font color='green'>ncals</font> : Number of calls.<br>\n",
    "<font color='green'>tottime</font> : Total time spent in the function.<br>\n",
    "<font color='green'>percall</font> : Time per call (tottime/ncalls).<br>\n",
    "<font color='green'>cumtime</font> : Cumulative time spent in a function.<br>\n",
    "<font color='green'>time per call</font> : Quotient of cumtime over the number of primitive calls.<br>\n",
    "<font color='green'>filename:lineno</font> : File name and the line number of the code.<br></p>"
   ]
  },
  {
   "cell_type": "markdown",
   "metadata": {},
   "source": [
    "#### Using <font color='blue'>cProfile</font> inside a program"
   ]
  },
  {
   "cell_type": "code",
   "execution_count": 12,
   "metadata": {},
   "outputs": [],
   "source": [
    "import cProfile\n",
    "\n",
    "from testcode import main # importing function from our program\n",
    "cProfile.run('main()', 'myapp.stats') # report saved in a file called 'myapp.stats'"
   ]
  },
  {
   "cell_type": "markdown",
   "metadata": {},
   "source": [
    "#### Using <font color='blue'>pstats</font> module to see the metrics from cProfile/profile"
   ]
  },
  {
   "cell_type": "code",
   "execution_count": 14,
   "metadata": {},
   "outputs": [
    {
     "name": "stdout",
     "output_type": "stream",
     "text": [
      "Sun May  3 12:50:26 2020    myapp.stats\n",
      "\n",
      "         404 function calls in 60.632 seconds\n",
      "\n",
      "   Ordered by: internal time, function name\n",
      "\n",
      "   ncalls  tottime  percall  cumtime  percall filename:lineno(function)\n",
      "      200   60.628    0.303   60.628    0.303 {built-in method time.sleep}\n",
      "        1    0.001    0.001   60.631   60.631 /Users/pranaygore/testcode.py:9(main)\n",
      "      100    0.001    0.000   50.306    0.503 /Users/pranaygore/testcode.py:6(func2)\n",
      "      100    0.001    0.000   10.324    0.103 /Users/pranaygore/testcode.py:3(func1)\n",
      "        1    0.000    0.000   60.632   60.632 {built-in method builtins.exec}\n",
      "        1    0.000    0.000   60.632   60.632 <string>:1(<module>)\n",
      "        1    0.000    0.000    0.000    0.000 {method 'disable' of '_lsprof.Profiler' objects}\n",
      "\n",
      "\n"
     ]
    },
    {
     "data": {
      "text/plain": [
       "<pstats.Stats at 0x10adcbc50>"
      ]
     },
     "execution_count": 14,
     "metadata": {},
     "output_type": "execute_result"
    }
   ],
   "source": [
    "import pstats #analyzes data collected by the Python profiler\n",
    "\n",
    "stats = pstats.Stats('myapp.stats') # Supply path of the data\n",
    "stats.sort_stats('time', 'name').print_stats()"
   ]
  },
  {
   "cell_type": "markdown",
   "metadata": {},
   "source": [
    "#### Find metrics related to a specific function of your code"
   ]
  },
  {
   "cell_type": "code",
   "execution_count": 21,
   "metadata": {},
   "outputs": [
    {
     "name": "stdout",
     "output_type": "stream",
     "text": [
      "   Ordered by: internal time, function name\n",
      "   List reduced from 7 to 1 due to restriction <'func1'>\n",
      "\n",
      "Function                                called...\n",
      "                                            ncalls  tottime  cumtime\n",
      "/Users/pranaygore/testcode.py:3(func1)  ->     100   10.324   10.324  {built-in method time.sleep}\n",
      "\n",
      "\n"
     ]
    },
    {
     "data": {
      "text/plain": [
       "<pstats.Stats at 0x10adcbc50>"
      ]
     },
     "execution_count": 21,
     "metadata": {},
     "output_type": "execute_result"
    }
   ],
   "source": [
    "stats.print_callees('func1')"
   ]
  },
  {
   "cell_type": "markdown",
   "metadata": {},
   "source": [
    "#### Install <font color='blue'>snakeviz</font> module for visualization"
   ]
  },
  {
   "cell_type": "code",
   "execution_count": 44,
   "metadata": {},
   "outputs": [
    {
     "name": "stdout",
     "output_type": "stream",
     "text": [
      "Collecting package metadata (current_repodata.json): done\n",
      "Solving environment: done\n",
      "\n",
      "## Package Plan ##\n",
      "\n",
      "  environment location: //anaconda3\n",
      "\n",
      "  added / updated specs:\n",
      "    - snakeviz\n",
      "\n",
      "\n",
      "The following packages will be downloaded:\n",
      "\n",
      "    package                    |            build\n",
      "    ---------------------------|-----------------\n",
      "    snakeviz-2.0.1             |           py37_0         315 KB  anaconda\n",
      "    ------------------------------------------------------------\n",
      "                                           Total:         315 KB\n",
      "\n",
      "The following NEW packages will be INSTALLED:\n",
      "\n",
      "  snakeviz           anaconda/osx-64::snakeviz-2.0.1-py37_0\n",
      "\n",
      "\n",
      "\n",
      "Downloading and Extracting Packages\n",
      "snakeviz-2.0.1       | 315 KB    | ##################################### | 100% \n",
      "Preparing transaction: done\n",
      "Verifying transaction: done\n",
      "Executing transaction: done\n"
     ]
    }
   ],
   "source": [
    "!conda install -c anaconda snakeviz --yes"
   ]
  },
  {
   "cell_type": "code",
   "execution_count": 47,
   "metadata": {},
   "outputs": [
    {
     "name": "stdout",
     "output_type": "stream",
     "text": [
      "snakeviz web server started on 127.0.0.1:8080; enter Ctrl-C to exit\n",
      "http://127.0.0.1:8080/snakeviz/%2FUsers%2Fpranaygore%2Fmyapp.stats\n",
      "^C\n",
      "\n",
      "Bye!\n"
     ]
    }
   ],
   "source": [
    "!snakeviz myapp.stats"
   ]
  },
  {
   "cell_type": "markdown",
   "metadata": {},
   "source": [
    "## Micro-profiling"
   ]
  },
  {
   "cell_type": "code",
   "execution_count": 48,
   "metadata": {},
   "outputs": [
    {
     "name": "stdout",
     "output_type": "stream",
     "text": [
      "Sun May  3 20:43:07 2020    /var/folders/3v/nxmqphns1tx7_q_1pqn11v2w0000gn/T/tmp37m6f45d\n",
      "\n",
      "         403 function calls in 60.667 seconds\n",
      "\n",
      "   Ordered by: internal time\n",
      "\n",
      "   ncalls  tottime  percall  cumtime  percall filename:lineno(function)\n",
      "      200   60.664    0.303   60.664    0.303 {built-in method time.sleep}\n",
      "        1    0.001    0.001   60.667   60.667 /Users/pranaygore/testcode.py:9(main)\n",
      "      100    0.001    0.000   10.349    0.103 /Users/pranaygore/testcode.py:3(func1)\n",
      "      100    0.001    0.000   50.317    0.503 /Users/pranaygore/testcode.py:6(func2)\n",
      "        1    0.000    0.000   60.667   60.667 <ipython-input-48-b1f95de56f2d>:17(main)\n",
      "        1    0.000    0.000    0.000    0.000 {method 'disable' of '_lsprof.Profiler' objects}\n",
      "\n",
      "\n"
     ]
    }
   ],
   "source": [
    "import tempfile, os, cProfile, pstats\n",
    "from testcode import main as main_profile # import the main function from our testcode.\n",
    "\n",
    "def profile(column='time', list=5): # Creating a decorator function\n",
    "    def _profile(function):\n",
    "        def __profile(*args, **kw):\n",
    "            s = tempfile.mktemp()\n",
    "            profiler = cProfile.Profile()\n",
    "            profiler.runcall(function, *args, **kw)\n",
    "            profiler.dump_stats(s)\n",
    "            p = pstats.Stats(s)\n",
    "            p.sort_stats(column).print_stats(list)\n",
    "        return __profile\n",
    "    return _profile\n",
    "\n",
    "@profile('time', 6)\n",
    "def main():\n",
    "    return main_profile()# Calling main function of testcode in current programs main\n",
    "\n",
    "main()"
   ]
  },
  {
   "cell_type": "code",
   "execution_count": 50,
   "metadata": {},
   "outputs": [
    {
     "name": "stdout",
     "output_type": "stream",
     "text": [
      "Sun May  3 20:49:35 2020    /var/folders/3v/nxmqphns1tx7_q_1pqn11v2w0000gn/T/tmplw5516lu\n",
      "\n",
      "         3 function calls in 0.104 seconds\n",
      "\n",
      "   Ordered by: internal time\n",
      "\n",
      "   ncalls  tottime  percall  cumtime  percall filename:lineno(function)\n",
      "        1    0.104    0.104    0.104    0.104 {built-in method time.sleep}\n",
      "        1    0.000    0.000    0.104    0.104 /Users/pranaygore/testcode.py:3(func1)\n",
      "        1    0.000    0.000    0.000    0.000 {method 'disable' of '_lsprof.Profiler' objects}\n",
      "\n",
      "\n"
     ]
    }
   ],
   "source": [
    "# Profile a specific function and get the stats\n",
    "from testcode import func1\n",
    "stats_func1=profile()(func1)\n",
    "stats_func1()"
   ]
  },
  {
   "cell_type": "markdown",
   "metadata": {},
   "source": [
    "#### using <font color='blue'>timeit</font> module"
   ]
  },
  {
   "cell_type": "code",
   "execution_count": 56,
   "metadata": {},
   "outputs": [
    {
     "data": {
      "text/plain": [
       "1.0417677559998992"
      ]
     },
     "execution_count": 56,
     "metadata": {},
     "output_type": "execute_result"
    }
   ],
   "source": [
    "import timeit\n",
    "t=timeit.Timer('from testcode import func1;func1()') # complete code(to be tested) has to be in a string format\n",
    "t.timeit(number=10) # number refers to no of times we need to execute.\n",
    "# Result is the time taken to execute the code 10 times."
   ]
  },
  {
   "cell_type": "markdown",
   "metadata": {},
   "source": [
    "#### We can also run <font color='blue'>timeit</font> in the terminal directly."
   ]
  },
  {
   "cell_type": "code",
   "execution_count": 57,
   "metadata": {},
   "outputs": [
    {
     "name": "stdout",
     "output_type": "stream",
     "text": [
      "20000 loops, best of 5: 19.9 usec per loop\r\n"
     ]
    }
   ],
   "source": [
    "!python3 -m timeit '\"-\".join(map(str, range(100)))'"
   ]
  },
  {
   "cell_type": "markdown",
   "metadata": {},
   "source": [
    "#### <font color='blue'>LineProfiler</font> module"
   ]
  },
  {
   "cell_type": "code",
   "execution_count": 60,
   "metadata": {},
   "outputs": [
    {
     "name": "stdout",
     "output_type": "stream",
     "text": [
      "Collecting package metadata (current_repodata.json): done\n",
      "Solving environment: done\n",
      "\n",
      "## Package Plan ##\n",
      "\n",
      "  environment location: //anaconda3\n",
      "\n",
      "  added / updated specs:\n",
      "    - line_profiler\n",
      "\n",
      "\n",
      "The following packages will be downloaded:\n",
      "\n",
      "    package                    |            build\n",
      "    ---------------------------|-----------------\n",
      "    line_profiler-2.1.2        |   py37h1de35cc_0          55 KB  anaconda\n",
      "    ------------------------------------------------------------\n",
      "                                           Total:          55 KB\n",
      "\n",
      "The following NEW packages will be INSTALLED:\n",
      "\n",
      "  line_profiler      anaconda/osx-64::line_profiler-2.1.2-py37h1de35cc_0\n",
      "\n",
      "\n",
      "\n",
      "Downloading and Extracting Packages\n",
      "line_profiler-2.1.2  | 55 KB     | ##################################### | 100% \n",
      "Preparing transaction: done\n",
      "Verifying transaction: done\n",
      "Executing transaction: done\n"
     ]
    }
   ],
   "source": [
    "!conda install -c anaconda line_profiler --yes"
   ]
  },
  {
   "cell_type": "code",
   "execution_count": 70,
   "metadata": {},
   "outputs": [
    {
     "name": "stdout",
     "output_type": "stream",
     "text": [
      "5000\n",
      "Timer unit: 1e-06 s\n",
      "\n"
     ]
    },
    {
     "name": "stderr",
     "output_type": "stream",
     "text": [
      "//anaconda3/lib/python3.7/site-packages/ipykernel_launcher.py:8: UserWarning: Could not extract a code object for the object None\n",
      "  \n"
     ]
    }
   ],
   "source": [
    "from line_profiler import LineProfiler\n",
    "  \n",
    "def test_func(num):\n",
    "    for i in range(100):\n",
    "        num+=i\n",
    "    print(num)\n",
    "\n",
    "profile_data = LineProfiler(test_func(50)) \n",
    "profile_data.print_stats()"
   ]
  },
  {
   "cell_type": "code",
   "execution_count": null,
   "metadata": {},
   "outputs": [],
   "source": []
  }
 ],
 "metadata": {
  "kernelspec": {
   "display_name": "Python 3",
   "language": "python",
   "name": "python3"
  },
  "language_info": {
   "codemirror_mode": {
    "name": "ipython",
    "version": 3
   },
   "file_extension": ".py",
   "mimetype": "text/x-python",
   "name": "python",
   "nbconvert_exporter": "python",
   "pygments_lexer": "ipython3",
   "version": "3.7.3"
  }
 },
 "nbformat": 4,
 "nbformat_minor": 2
}
