{
 "cells": [
  {
   "cell_type": "code",
   "execution_count": 2,
   "metadata": {
    "collapsed": false
   },
   "outputs": [
    {
     "name": "stdout",
     "output_type": "stream",
     "text": [
      "30\n",
      "45\n",
      "50\n"
     ]
    }
   ],
   "source": [
    "#getattr example\n",
    "\n",
    "class Employee:\n",
    "    emp_comp='Amazon'\n",
    "    emp_age=30\n",
    "    default_age=50\n",
    " \n",
    "    def defaultMethod(self):\n",
    "        print(\"This is a default method\")\n",
    "\n",
    "e=Employee()\n",
    "print(getattr(e,'emp_age', 45)) #'emp_age' is available in class\n",
    "print(getattr(e,'emp_age_other', 45)) #'emp_age_other' is not available in class\n",
    "print(getattr(e,'emp_age_other', e.default_age)) #'emp_age_other' is not available in class,\n",
    "                                                # attribute 'default_age' will be returned"
   ]
  },
  {
   "cell_type": "code",
   "execution_count": 6,
   "metadata": {
    "collapsed": false
   },
   "outputs": [
    {
     "name": "stdout",
     "output_type": "stream",
     "text": [
      "Medium\n"
     ]
    },
    {
     "ename": "AttributeError",
     "evalue": "'Employee' object has no attribute 'emp_name'",
     "output_type": "error",
     "traceback": [
      "\u001b[0;31m---------------------------------------------------------------------------\u001b[0m",
      "\u001b[0;31mAttributeError\u001b[0m                            Traceback (most recent call last)",
      "\u001b[0;32m<ipython-input-6-a9c3a7a2812e>\u001b[0m in \u001b[0;36m<module>\u001b[0;34m()\u001b[0m\n\u001b[1;32m     17\u001b[0m \u001b[0msetattr\u001b[0m\u001b[0;34m(\u001b[0m\u001b[0me\u001b[0m\u001b[0;34m,\u001b[0m\u001b[0;34m'emp_name'\u001b[0m\u001b[0;34m,\u001b[0m\u001b[0;34m'Medium'\u001b[0m\u001b[0;34m)\u001b[0m\u001b[0;34m\u001b[0m\u001b[0m\n\u001b[1;32m     18\u001b[0m \u001b[0mprint\u001b[0m\u001b[0;34m(\u001b[0m\u001b[0mgetattr\u001b[0m\u001b[0;34m(\u001b[0m\u001b[0me\u001b[0m\u001b[0;34m,\u001b[0m\u001b[0;34m'emp_name'\u001b[0m\u001b[0;34m)\u001b[0m\u001b[0;34m)\u001b[0m\u001b[0;34m\u001b[0m\u001b[0m\n\u001b[0;32m---> 19\u001b[0;31m \u001b[0mprint\u001b[0m\u001b[0;34m(\u001b[0m\u001b[0mgetattr\u001b[0m\u001b[0;34m(\u001b[0m\u001b[0me1\u001b[0m\u001b[0;34m,\u001b[0m\u001b[0;34m'emp_name'\u001b[0m\u001b[0;34m)\u001b[0m\u001b[0;34m)\u001b[0m \u001b[0;31m# Will throw error, as we did not set value for 'emp_name' for e1 object\u001b[0m\u001b[0;34m\u001b[0m\u001b[0m\n\u001b[0m",
      "\u001b[0;31mAttributeError\u001b[0m: 'Employee' object has no attribute 'emp_name'"
     ]
    }
   ],
   "source": [
    "#setattr example\n",
    "\n",
    "class Employee:\n",
    "    emp_comp='Amazon'\n",
    "    emp_age=30\n",
    "    default_age=50\n",
    " \n",
    "    def defaultMethod(self):\n",
    "        print(\"This is a default method\")\n",
    "\n",
    "e=Employee()\n",
    "print(getattr(e,'emp_age')) #'emp_age' is available in class with values = 30\n",
    "setattr(e,'emp_age', 100) #setting value of 'emp_age' as 100\n",
    "print(getattr(e,'emp_age', e.default_age)) #Accessing 'emp_age' value post change.\n",
    "\n",
    "e1=Employee()\n",
    "setattr(e,'emp_name','Medium')\n",
    "print(getattr(e,'emp_name'))\n",
    "print(getattr(e1,'emp_name')) # Will throw error, as we did not set value for 'emp_name' for e1 object"
   ]
  },
  {
   "cell_type": "code",
   "execution_count": 10,
   "metadata": {
    "collapsed": false
   },
   "outputs": [
    {
     "name": "stdout",
     "output_type": "stream",
     "text": [
      "True\n",
      "False\n",
      "True\n",
      "False\n",
      "===================================\n",
      "False\n",
      "False\n"
     ]
    }
   ],
   "source": [
    "#hasattr and delattr\n",
    "\n",
    "class Employee:\n",
    "    emp_comp='Amazon'\n",
    "    emp_age=30\n",
    "    default_age=50\n",
    " \n",
    "    def defaultMethod(self):\n",
    "        print(\"This is a default method\")\n",
    "\n",
    "e,e1=Employee(),Employee()       \n",
    "print(hasattr(e,'emp_comp'))\n",
    "print(hasattr(e,'emp_name'))\n",
    "setattr(e,'emp_address','UK')\n",
    "print(hasattr(e,'emp_address'))\n",
    "print(hasattr(e1,'emp_address'))\n",
    "\n",
    "print('=' * 35)\n",
    "\n",
    "delattr(Employee,'emp_comp')\n",
    "\n",
    "print(hasattr(e,'emp_comp'))\n",
    "print(hasattr(e1,'emp_comp'))"
   ]
  },
  {
   "cell_type": "code",
   "execution_count": null,
   "metadata": {
    "collapsed": true
   },
   "outputs": [],
   "source": []
  }
 ],
 "metadata": {
  "kernelspec": {
   "display_name": "Python 3",
   "language": "python",
   "name": "python3"
  },
  "language_info": {
   "codemirror_mode": {
    "name": "ipython",
    "version": 3
   },
   "file_extension": ".py",
   "mimetype": "text/x-python",
   "name": "python",
   "nbconvert_exporter": "python",
   "pygments_lexer": "ipython3",
   "version": "3.6.0"
  }
 },
 "nbformat": 4,
 "nbformat_minor": 2
}
