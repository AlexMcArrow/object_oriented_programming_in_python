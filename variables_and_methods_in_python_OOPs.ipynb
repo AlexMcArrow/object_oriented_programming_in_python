{
 "cells": [
  {
   "cell_type": "code",
   "execution_count": 1,
   "metadata": {
    "collapsed": false
   },
   "outputs": [
    {
     "name": "stdout",
     "output_type": "stream",
     "text": [
      "Name of the Employee:  Pranay\n",
      "Name of the Company:  Amazon\n",
      "Address of the Employee:  UK\n"
     ]
    }
   ],
   "source": [
    "# Reference variable and Instance variable example\n",
    "\n",
    "class Employee:\n",
    "\n",
    "    def __init__(self): # Constructor\n",
    "        self.name='Pranay'\n",
    "        self.company='Amazon'\n",
    "        self.address='UK'\n",
    "\n",
    "e=Employee()\n",
    "\n",
    "print(\"Name of the Employee: \",e.name)\n",
    "print(\"Name of the Company: \",e.company)\n",
    "print(\"Address of the Employee: \",e.address)"
   ]
  },
  {
   "cell_type": "code",
   "execution_count": 3,
   "metadata": {
    "collapsed": false
   },
   "outputs": [
    {
     "name": "stdout",
     "output_type": "stream",
     "text": [
      "Details of the employee:  Pranay Amazon UK\n"
     ]
    }
   ],
   "source": [
    "#Instance method example.\n",
    "\n",
    "class Employee:\n",
    "\n",
    "    def __init__(self):\n",
    "        self.name='Pranay'\n",
    "        self.company='Amazon'\n",
    "        self.address='UK'\n",
    "        \n",
    "    def empDetails(self):\n",
    "        print(\"Details of the employee: \",self.name, self.company, self.address)\n",
    "\n",
    "e=Employee()\n",
    "e.empDetails()"
   ]
  },
  {
   "cell_type": "code",
   "execution_count": 5,
   "metadata": {
    "collapsed": false,
    "scrolled": true
   },
   "outputs": [
    {
     "name": "stdout",
     "output_type": "stream",
     "text": [
      "{'name': 'Pranay', 'company': 'Amazon'}\n",
      "{'name': 'Pranay', 'company': 'Amazon', 'address': 'UK'}\n",
      "{'name': 'Pranay', 'company': 'Amazon', 'address': 'UK', 'empid': 3003}\n"
     ]
    }
   ],
   "source": [
    "# Use of __dict__ and ways of declaring instance variables\n",
    "\n",
    "class Employee:\n",
    "    def __init__(self):\n",
    "        self.name='Pranay' # Declare instance variables in constructor\n",
    "        self.company='Amazon'\n",
    "\n",
    "    def addressMethod(self):\n",
    "        self.address='UK' # Declare instance variable in an instance method\n",
    "        \n",
    "e=Employee()\n",
    "print(e.__dict__)\n",
    "\n",
    "\n",
    "e.addressMethod()\n",
    "print(e.__dict__)\n",
    "\n",
    "e.empid=3003    # Declare instance variable from outside of the class using object reference\n",
    "print(e.__dict__)\n",
    "\n"
   ]
  },
  {
   "cell_type": "code",
   "execution_count": 6,
   "metadata": {
    "collapsed": false
   },
   "outputs": [
    {
     "name": "stdout",
     "output_type": "stream",
     "text": [
      "{'name': 'Pranay', 'company': 'Amazon', 'address': 'UK'}\n",
      "{'company': 'Amazon', 'address': 'UK'}\n",
      "{'address': 'UK'}\n"
     ]
    }
   ],
   "source": [
    "# Ways of deleting instance variables.\n",
    "class Employee:\n",
    "    def __init__(self):\n",
    "        self.name='Pranay' # Declare instance variables in constructor\n",
    "        self.company='Amazon'\n",
    "\n",
    "    def addressMethod(self):\n",
    "        self.address='UK' # Declare instance variable in an instance method\n",
    "        \n",
    "    def deleteInstVar(self):\n",
    "        del self.name # Method for deleting Instance variable inside a class\n",
    "        \n",
    "e=Employee()\n",
    "e.addressMethod()\n",
    "print(e.__dict__)\n",
    "\n",
    "e.deleteInstVar()\n",
    "print(e.__dict__)\n",
    "\n",
    "del e.company # Deleting Instance variable outside the class\n",
    "print(e.__dict__)\n"
   ]
  },
  {
   "cell_type": "code",
   "execution_count": 7,
   "metadata": {
    "collapsed": false
   },
   "outputs": [
    {
     "name": "stdout",
     "output_type": "stream",
     "text": [
      "Name of the company:  Amazon\n",
      "Employee ID:  3003\n",
      "Name of the company:  Amazon\n",
      "Employee ID:  3003\n"
     ]
    }
   ],
   "source": [
    "#Class method\n",
    "\n",
    "class Employee:\n",
    "    \n",
    "    company='Amazon'\n",
    "    emp_id=3003\n",
    "    \n",
    "    def __init__(self):\n",
    "        self.name='Pranay'\n",
    "        self.address='UK'\n",
    "        \n",
    "    @classmethod\n",
    "    def propertiesInfo(cls):\n",
    "        print(\"Name of the company: \",Employee.company)\n",
    "        print(\"Employee ID: \",cls.emp_id)\n",
    "\n",
    "e=Employee()\n",
    "\n",
    "e.propertiesInfo()\n",
    "Employee.propertiesInfo()"
   ]
  },
  {
   "cell_type": "code",
   "execution_count": 9,
   "metadata": {
    "collapsed": false
   },
   "outputs": [
    {
     "name": "stdout",
     "output_type": "stream",
     "text": [
      "Employee details:  Amazon Pranay UK\n",
      "Employee details:  Amazon Ajeet USA\n",
      "Employee details:  Amazon Iffat EU\n",
      "Company name is :  Amazon\n",
      "Company name is :  Amazon\n"
     ]
    }
   ],
   "source": [
    "#[continued] Ways of declaring and accessing static variables\n",
    "class Employee:\n",
    "    \n",
    "    company='Amazon'\n",
    "    \n",
    "    def __init__(self,name,address):\n",
    "        self.name=name\n",
    "        self.address=address\n",
    "    \n",
    "    def showDetails(self):\n",
    "        print(\"Employee details: \", Employee.company, self.name, self.address)\n",
    "        # Accessing static variable using class name ( Employee.company)\n",
    "e1=Employee(\"Pranay\",\"UK\")\n",
    "e2=Employee(\"Ajeet\",\"USA\")\n",
    "e3=Employee(\"Iffat\",\"EU\")\n",
    "\n",
    "e1.showDetails()\n",
    "e2.showDetails()\n",
    "e3.showDetails()\n",
    "\n",
    "print(\"Company name is : \",e1.company) # Accessing static variable ( company ) using objects\n",
    "print(\"Company name is : \",e2.company)"
   ]
  },
  {
   "cell_type": "code",
   "execution_count": 21,
   "metadata": {
    "collapsed": false
   },
   "outputs": [
    {
     "name": "stdout",
     "output_type": "stream",
     "text": [
      "Company location is:  AFRICA\n",
      "Company area:  5000\n",
      "Machine serial number is:  121212\n",
      "{'__module__': '__main__', 'company': 'AMAZON', '__init__': <function Employee.__init__ at 0x105704598>, 'showDetails': <function Employee.showDetails at 0x105704730>, 'companyLocation': <classmethod object at 0x1055ffba8>, 'machineSerialNum': <staticmethod object at 0x1055ff630>, '__dict__': <attribute '__dict__' of 'Employee' objects>, '__weakref__': <attribute '__weakref__' of 'Employee' objects>, '__doc__': None, 'location': 'DENMARK', 'salary': 10000, 'company_loc': 'AFRICA', 'company_area': 5000, 'mach_serial_num': 121212}\n"
     ]
    }
   ],
   "source": [
    "# Declaring and accessing static variable.\n",
    "\n",
    "class Employee:\n",
    "    company='AMAZON' # Declaring outside any method / constructor\n",
    "    def __init__(self,name):\n",
    "        self.name=name\n",
    "        Employee.location='DENMARK' # Declaring inside a constructor\n",
    "    \n",
    "    def showDetails(self):\n",
    "        Employee.salary=10000 # Declaring inside an instance method\n",
    "        \n",
    "    @classmethod\n",
    "    def companyLocation(cls):\n",
    "        Employee.company_loc='AFRICA' # Declaring inside a class method using classname\n",
    "        cls.company_area=5000    # Declaring inside a class method using cls\n",
    "\n",
    "    @staticmethod\n",
    "    def machineSerialNum():\n",
    "        Employee.mach_serial_num=121212 # Declaring inside a static method using classname\n",
    "        \n",
    "e=Employee('Pranay')\n",
    "e.showDetails()\n",
    "\n",
    "e.ceo='Ajeet Kumar' # Declaring outside the class using object name\n",
    "\n",
    "Employee.companyLocation() # Calling class method\n",
    "Employee.machineSerialNum()# Calling static method\n",
    "\n",
    "print(\"Company location is: \", Employee.company_loc)\n",
    "print(\"Company area: \", Employee.company_area)\n",
    "print(\"Machine serial number is: \", Employee.mach_serial_num)\n",
    "print(Employee.__dict__)"
   ]
  },
  {
   "cell_type": "code",
   "execution_count": 22,
   "metadata": {
    "collapsed": false
   },
   "outputs": [
    {
     "name": "stdout",
     "output_type": "stream",
     "text": [
      "Sum is:  5\n",
      "Sum is:  9\n"
     ]
    }
   ],
   "source": [
    "#Static method exmple\n",
    "class Employee:\n",
    "    \n",
    "    def __init__(self):\n",
    "        pass\n",
    "\n",
    "    @staticmethod\n",
    "    def add(x,y):\n",
    "        print('Sum is: ', x+y)\n",
    "\n",
    "e=Employee()\n",
    "e.add(2,3)\n",
    "Employee.add(4,5)"
   ]
  },
  {
   "cell_type": "code",
   "execution_count": 32,
   "metadata": {
    "collapsed": false
   },
   "outputs": [
    {
     "name": "stdout",
     "output_type": "stream",
     "text": [
      "Sum is:  5\n"
     ]
    },
    {
     "ename": "AttributeError",
     "evalue": "type object 'Employee' has no attribute 'total'",
     "output_type": "error",
     "traceback": [
      "\u001b[0;31m---------------------------------------------------------------------------\u001b[0m",
      "\u001b[0;31mAttributeError\u001b[0m                            Traceback (most recent call last)",
      "\u001b[0;32m<ipython-input-32-3c269d4f8f3b>\u001b[0m in \u001b[0;36m<module>\u001b[0;34m()\u001b[0m\n\u001b[1;32m     11\u001b[0m \u001b[0me\u001b[0m\u001b[0;34m=\u001b[0m\u001b[0mEmployee\u001b[0m\u001b[0;34m(\u001b[0m\u001b[0;34m)\u001b[0m\u001b[0;34m\u001b[0m\u001b[0m\n\u001b[1;32m     12\u001b[0m \u001b[0me\u001b[0m\u001b[0;34m.\u001b[0m\u001b[0madd\u001b[0m\u001b[0;34m(\u001b[0m\u001b[0;36m2\u001b[0m\u001b[0;34m,\u001b[0m\u001b[0;36m3\u001b[0m\u001b[0;34m)\u001b[0m\u001b[0;34m\u001b[0m\u001b[0m\n\u001b[0;32m---> 13\u001b[0;31m \u001b[0mprint\u001b[0m\u001b[0;34m(\u001b[0m\u001b[0mEmployee\u001b[0m\u001b[0;34m.\u001b[0m\u001b[0mtotal\u001b[0m\u001b[0;34m,\u001b[0m \u001b[0me\u001b[0m\u001b[0;34m.\u001b[0m\u001b[0mtotal\u001b[0m\u001b[0;34m)\u001b[0m\u001b[0;34m\u001b[0m\u001b[0m\n\u001b[0m",
      "\u001b[0;31mAttributeError\u001b[0m: type object 'Employee' has no attribute 'total'"
     ]
    }
   ],
   "source": [
    "class Employee:\n",
    "    \n",
    "    def __init__(self):\n",
    "        pass\n",
    "\n",
    "    def add(self,x,y):\n",
    "        total=x+y # Local variable total is created.\n",
    "        print(\"Sum is: \", total)\n",
    "        \n",
    "\n",
    "e=Employee()\n",
    "e.add(2,3)\n",
    "print(Employee.total, e.total)\n"
   ]
  },
  {
   "cell_type": "code",
   "execution_count": null,
   "metadata": {
    "collapsed": true
   },
   "outputs": [],
   "source": []
  }
 ],
 "metadata": {
  "kernelspec": {
   "display_name": "Python 3",
   "language": "python",
   "name": "python3"
  },
  "language_info": {
   "codemirror_mode": {
    "name": "ipython",
    "version": 3
   },
   "file_extension": ".py",
   "mimetype": "text/x-python",
   "name": "python",
   "nbconvert_exporter": "python",
   "pygments_lexer": "ipython3",
   "version": "3.6.0"
  }
 },
 "nbformat": 4,
 "nbformat_minor": 2
}
