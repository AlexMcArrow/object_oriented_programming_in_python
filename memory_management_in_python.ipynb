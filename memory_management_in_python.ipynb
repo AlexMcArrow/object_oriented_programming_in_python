{
 "cells": [
  {
   "cell_type": "code",
   "execution_count": 8,
   "metadata": {
    "collapsed": false
   },
   "outputs": [
    {
     "name": "stdout",
     "output_type": "stream",
     "text": [
      "<class 'dict'> 240\n",
      "<class 'tuple'> 48\n"
     ]
    }
   ],
   "source": [
    "# Code is maintained for the article on Medium for Memory management in Python\n",
    "# Medium article @ https://link.medium.com/OvSQB7MGVT\n",
    "\n",
    "import sys\n",
    "\n",
    "dic={}\n",
    "tup=()\n",
    "\n",
    "print(type(dic),sys.getsizeof(dic))\n",
    "print(type(tup),sys.getsizeof(tup))"
   ]
  },
  {
   "cell_type": "code",
   "execution_count": 4,
   "metadata": {
    "collapsed": false
   },
   "outputs": [
    {
     "name": "stdout",
     "output_type": "stream",
     "text": [
      "4305920944\n",
      "4305920944\n",
      "4305920944\n"
     ]
    },
    {
     "data": {
      "text/plain": [
       "73"
      ]
     },
     "execution_count": 4,
     "metadata": {},
     "output_type": "execute_result"
    }
   ],
   "source": [
    "#Assigning same value ( 100 ) to 3 different variables.\n",
    "import sys\n",
    "var1 = 100\n",
    "var2 = var1\n",
    "var3 = 100\n",
    "\n",
    "# Memory location address will point to just one address.\n",
    "print(id(var1))\n",
    "print(id(var2))\n",
    "print(id(var3))"
   ]
  },
  {
   "cell_type": "code",
   "execution_count": 12,
   "metadata": {
    "collapsed": false
   },
   "outputs": [
    {
     "name": "stdout",
     "output_type": "stream",
     "text": [
      "Rerence count for 'a':  77\n",
      "Rerence count for 'b':  53\n",
      "Size of an empty list:  64\n",
      "Size of an empty dictionary:  240\n",
      "Size of an empty tuple:  48\n",
      "Size of list_demo:  80\n",
      "Size of dict_demo:  240\n",
      "Size of tup_demo:  64\n"
     ]
    }
   ],
   "source": [
    "import sys\n",
    "\n",
    "a=100\n",
    "b='abc'\n",
    "\n",
    "list_demo=[a,b]\n",
    "dict_demo={1:a,2:b}\n",
    "tup_demo=(a,b)\n",
    "\n",
    "print(\"Rerence count for 'a': \",sys.getrefcount(a))\n",
    "print(\"Rerence count for 'b': \",sys.getrefcount(b))\n",
    "\n",
    "print(\"Size of an empty list: \", sys.getsizeof(list()))\n",
    "print(\"Size of an empty dictionary: \", sys.getsizeof(dict()))\n",
    "print(\"Size of an empty tuple: \", sys.getsizeof(tuple()))\n",
    "\n",
    "print(\"Size of list_demo: \", sys.getsizeof(list_demo))\n",
    "print(\"Size of dict_demo: \", sys.getsizeof(dict_demo))\n",
    "print(\"Size of tup_demo: \", sys.getsizeof(tup_demo))\n",
    "\n"
   ]
  },
  {
   "cell_type": "code",
   "execution_count": null,
   "metadata": {
    "collapsed": true
   },
   "outputs": [],
   "source": []
  }
 ],
 "metadata": {
  "kernelspec": {
   "display_name": "Python 3",
   "language": "python",
   "name": "python3"
  },
  "language_info": {
   "codemirror_mode": {
    "name": "ipython",
    "version": 3
   },
   "file_extension": ".py",
   "mimetype": "text/x-python",
   "name": "python",
   "nbconvert_exporter": "python",
   "pygments_lexer": "ipython3",
   "version": "3.6.0"
  }
 },
 "nbformat": 4,
 "nbformat_minor": 2
}
